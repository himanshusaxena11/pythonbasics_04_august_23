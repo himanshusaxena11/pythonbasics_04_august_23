{
 "cells": [
  {
   "cell_type": "code",
   "execution_count": 6,
   "id": "b01b75e8",
   "metadata": {},
   "outputs": [
    {
     "name": "stdout",
     "output_type": "stream",
     "text": [
      "enter year of service8\n",
      "enter salary30000\n",
      "bonus 1500.0\n",
      "net sal 31500.0\n"
     ]
    }
   ],
   "source": [
    "# A company decided to give bonus of 5% to employee \n",
    "# if his/her year of service is more than 5 years.\n",
    "# Ask user for their salary and year of service \n",
    "# and print the net bonus amount.\n",
    "# Also try to print the net sal of emp after bonus.\n",
    "year_of_service=int(input('enter year of service'))\n",
    "salary =int(input('enter salary'))\n",
    "if year_of_service>5:\n",
    "    bonus=(salary*5)/100\n",
    "    net_sal=salary+bonus\n",
    "    print('bonus',bonus)\n",
    "    print('net sal',net_sal)\n",
    "else:\n",
    "    print('no bonus')\n",
    "    "
   ]
  },
  {
   "cell_type": "code",
   "execution_count": 1,
   "id": "e5fdfc5f",
   "metadata": {},
   "outputs": [
    {
     "name": "stdout",
     "output_type": "stream",
     "text": [
      "enter length9\n",
      "enter breadth6\n",
      "rectangle\n"
     ]
    }
   ],
   "source": [
    "# Take values of length and breadth of a rectangle \n",
    "# from user and check if it is square or not.\n",
    "l=int(input('enter length'))\n",
    "b=int(input('enter breadth'))\n",
    "if l!=b:\n",
    "    print('rectangle')\n",
    "else:\n",
    "    print('square')"
   ]
  },
  {
   "cell_type": "code",
   "execution_count": 6,
   "id": "90702ff6",
   "metadata": {},
   "outputs": [
    {
     "name": "stdout",
     "output_type": "stream",
     "text": [
      "enter length7\n",
      "enter breadth6\n",
      "enter side9\n",
      "areaofsquare 81\n",
      "areaofrectangle 42\n",
      "rectangle\n"
     ]
    }
   ],
   "source": [
    "# Take values of length and breadth of a rectangle \n",
    "# from user and check if it is square or not.\n",
    "l=int(input('enter length'))\n",
    "b=int(input('enter breadth'))\n",
    "a=int(input('enter side'))\n",
    "areaofsquare=a*a\n",
    "areaofrectangle=l*b\n",
    "print('areaofsquare',areaofsquare)\n",
    "print('areaofrectangle',areaofrectangle)\n",
    "if areaofsquare == areaofrectangle:\n",
    "   print('square')\n",
    "else:\n",
    "   print('rectangle')"
   ]
  },
  {
   "cell_type": "code",
   "execution_count": 9,
   "id": "96f8106b",
   "metadata": {},
   "outputs": [
    {
     "name": "stdout",
     "output_type": "stream",
     "text": [
      "enter first num7\n",
      "enter second num9\n",
      "enter third num4\n",
      "b is greatest\n"
     ]
    }
   ],
   "source": [
    "#Take 3 values from user and print greatest among them\n",
    "a=int(input('enter first num'))\n",
    "b=int(input('enter second num'))\n",
    "c=int(input('enter third num'))\n",
    "if a>b and a>c:\n",
    "    print('a is greatest')\n",
    "elif b>a and b>c:\n",
    "    print('b is greatest')\n",
    "elif c>a and c>b:\n",
    "    print('c is greatest')"
   ]
  },
  {
   "cell_type": "code",
   "execution_count": 15,
   "id": "3c358605",
   "metadata": {},
   "outputs": [
    {
     "name": "stdout",
     "output_type": "stream",
     "text": [
      "enter quantity15\n",
      "1500\n",
      "150.0\n",
      "1350.0\n"
     ]
    }
   ],
   "source": [
    "# A shop will give discount of 10% if the no of purchased quantity is more than 10.\n",
    "# Ask user for quantity\n",
    "# Suppose, one unit will cost 100.\n",
    "# Judge and print total cost for user.\n",
    "quantity=int(input('enter quantity'))\n",
    "unit_price=100\n",
    "price=quantity*unit_price\n",
    "print(price)\n",
    "if price>1000:\n",
    "    dis=price*10/100\n",
    "    print(dis)\n",
    "    net_pay=price-dis\n",
    "    print(net_pay)\n",
    "else:\n",
    "    print('no_dis')"
   ]
  },
  {
   "cell_type": "code",
   "execution_count": 18,
   "id": "e3237f0f",
   "metadata": {},
   "outputs": [
    {
     "name": "stdout",
     "output_type": "stream",
     "text": [
      "enter quantity11\n",
      "1100\n",
      "110.0\n",
      "990.0\n"
     ]
    }
   ],
   "source": [
    "# A shop will give discount of 10% if the no of purchased quantity is more than 10.\n",
    "# Ask user for quantity\n",
    "# Suppose, one unit will cost 100.\n",
    "# Judge and print total cost for user.\n",
    "quantity=int(input('enter quantity'))\n",
    "unit_price=100\n",
    "price=quantity*unit_price\n",
    "print(price)\n",
    "if quantity>10:\n",
    "    dis=price*10/100\n",
    "    net_pay=price-dis\n",
    "    print(dis)\n",
    "    print(net_pay)\n",
    "else:\n",
    "    print('no_dis')"
   ]
  },
  {
   "cell_type": "code",
   "execution_count": 19,
   "id": "9fa5b129",
   "metadata": {},
   "outputs": [
    {
     "name": "stdout",
     "output_type": "stream",
     "text": [
      "enter marks25\n",
      "F\n"
     ]
    }
   ],
   "source": [
    "# A school has following rules for grading system:\n",
    "# a. Below 25 - F\n",
    "# b. 25 to 45 - E\n",
    "# c. 45 to 50 - D\n",
    "# d. 50 to 60 - C\n",
    "# e. 60 to 80 - B\n",
    "# f. Above 80 - A\n",
    "# Ask user to enter marks and print the corresponding grade.\n",
    "\n",
    "marks=int(input('enter marks'))\n",
    "if marks>80:\n",
    "    print('A')\n",
    "elif 60<marks<=80:\n",
    "    print('B')\n",
    "elif 50<marks<=60:\n",
    "    print('C')\n",
    "elif 45<marks<=50:\n",
    "    print('D')\n",
    "elif 25<marks<=45:\n",
    "    print('E')\n",
    "elif marks<=25:\n",
    "    print('F')"
   ]
  },
  {
   "cell_type": "code",
   "execution_count": 17,
   "id": "13053717",
   "metadata": {},
   "outputs": [
    {
     "name": "stdout",
     "output_type": "stream",
     "text": [
      "enter age67\n",
      "enter age56\n",
      "enter age43\n",
      "A is oldest\n",
      "C is youngest\n"
     ]
    }
   ],
   "source": [
    "#Take input of age of 3 people by user and determine oldest and youngest among them.\n",
    "a=int(input('enter age'))\n",
    "b=int(input('enter age'))\n",
    "c=int(input('enter age'))\n",
    "if a>b and a>c:\n",
    "    print('A is oldest')\n",
    "elif b>a and b>c:\n",
    "    print('B is oldest')\n",
    "elif c>a and c>b:\n",
    "    print('C is oldest')\n",
    "if a<b and a<c:\n",
    "    print('A is youngest')\n",
    "elif b<a and b<c:\n",
    "    print('B is youngest')\n",
    "elif c<a and c<b:\n",
    "    print('C is youngest')"
   ]
  },
  {
   "cell_type": "code",
   "execution_count": 20,
   "id": "e0fdd391",
   "metadata": {},
   "outputs": [
    {
     "name": "stdout",
     "output_type": "stream",
     "text": [
      "enter num-8\n",
      "8\n"
     ]
    }
   ],
   "source": [
    "#Write a program to print absolute value of a number entered by user. \n",
    "a=int(input('enter num'))\n",
    "if a>0:\n",
    "    print(a)\n",
    "elif a<0:\n",
    "    print(-a)\n",
    "else:\n",
    "    print(0)"
   ]
  },
  {
   "cell_type": "code",
   "execution_count": 20,
   "id": "1c86d01a",
   "metadata": {},
   "outputs": [
    {
     "name": "stdout",
     "output_type": "stream",
     "text": [
      "enter class held100\n",
      "enter class attend68\n",
      "not allowed\n"
     ]
    }
   ],
   "source": [
    "# A student will not be allowed to sit in exam if his/her attendence is less than 75%.\n",
    "# Take following input from user\n",
    "# Number of classes held\n",
    "# Number of classes attended.\n",
    "# And print\n",
    "# percentage of class attended\n",
    "# Is student is allowed to sit in exam or not.\n",
    "num_of_class_held =int(input('enter class held'))\n",
    "num_of_class_attend=int(input('enter class attend'))\n",
    "percnt=(num_of_class_attend/num_of_class_held)*100\n",
    "if percnt<75:\n",
    "    print('not allowed')\n",
    "else:\n",
    "    print('allowed')\n"
   ]
  },
  {
   "cell_type": "code",
   "execution_count": 44,
   "id": "d51d2d2a",
   "metadata": {},
   "outputs": [
    {
     "name": "stdout",
     "output_type": "stream",
     "text": [
      "enter class held80\n",
      "enter class attend30\n",
      "37.5\n",
      "enter Y for yes and N for no for med condY\n",
      "first upload docs then will verify\n"
     ]
    }
   ],
   "source": [
    "# Modify the above question to allow student to sit if he/she has medical cause.\n",
    "# Ask user if he/she has medical cause or not ( 'Y' or 'N' ) and print accordingly.\n",
    "num_of_class_held =int(input('enter class held'))\n",
    "num_of_class_attend=int(input('enter class attend'))\n",
    "percnt=(num_of_class_attend/num_of_class_held)*100\n",
    "print(percnt)\n",
    "if percnt<75:\n",
    "    condn=input(\"enter Y for yes and N for no for med cond\")\n",
    "    if condn=='Y':\n",
    "        print('first upload docs then will verify')\n",
    "    elif condn=='N':\n",
    "        print('not allowed')\n",
    "elif percnt>=75:\n",
    "    print('allowed')"
   ]
  },
  {
   "cell_type": "code",
   "execution_count": 53,
   "id": "212ebe0d",
   "metadata": {},
   "outputs": [
    {
     "name": "stdout",
     "output_type": "stream",
     "text": [
      "enter class held100\n",
      "enter class attend71\n",
      "71.0\n",
      "pay 2000 as fine\n"
     ]
    }
   ],
   "source": [
    "#modify the above code and you are allowed to sit in the exam if you pay the fine of 2000 with 5% low attendance\n",
    "#and above 5% you have to pay 10k as fine to sit in the exam\n",
    "num_of_class_held =int(input('enter class held'))\n",
    "num_of_class_attend=int(input('enter class attend'))\n",
    "percnt=(num_of_class_attend/num_of_class_held)*100\n",
    "print(percnt)\n",
    "if percnt>=75:\n",
    "    print('allowed')\n",
    "elif 70<=percnt<75:\n",
    "    print('pay 2000 as fine')\n",
    "elif percnt<70:\n",
    "    print('10k fine')"
   ]
  },
  {
   "cell_type": "code",
   "execution_count": null,
   "id": "fa0fa276",
   "metadata": {},
   "outputs": [],
   "source": []
  }
 ],
 "metadata": {
  "kernelspec": {
   "display_name": "Python 3 (ipykernel)",
   "language": "python",
   "name": "python3"
  },
  "language_info": {
   "codemirror_mode": {
    "name": "ipython",
    "version": 3
   },
   "file_extension": ".py",
   "mimetype": "text/x-python",
   "name": "python",
   "nbconvert_exporter": "python",
   "pygments_lexer": "ipython3",
   "version": "3.9.12"
  }
 },
 "nbformat": 4,
 "nbformat_minor": 5
}
